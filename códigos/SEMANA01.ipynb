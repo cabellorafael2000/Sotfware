{
  "nbformat": 4,
  "nbformat_minor": 0,
  "metadata": {
    "colab": {
      "provenance": [],
      "collapsed_sections": [],
      "authorship_tag": "ABX9TyMdbcJLBUQQKXw+6mC9YhY0"
    },
    "kernelspec": {
      "name": "python3",
      "display_name": "Python 3"
    },
    "language_info": {
      "name": "python"
    }
  },
  "cells": [
    {
      "cell_type": "markdown",
      "source": [],
      "metadata": {
        "id": "Dc_uIJwmw4l8"
      }
    },
    {
      "cell_type": "code",
      "source": [],
      "metadata": {
        "id": "VCMUpYlg1KvZ"
      },
      "execution_count": null,
      "outputs": []
    },
    {
      "cell_type": "markdown",
      "source": [
        "#Introduccion al lenguale de python"
      ],
      "metadata": {
        "id": "xobHU8Ks1mLD"
      }
    },
    {
      "cell_type": "markdown",
      "source": [
        "Ejemplo 01. Hacer un programa que calcula el area de un trapecio"
      ],
      "metadata": {
        "id": "UnWUUgti1vLz"
      }
    },
    {
      "cell_type": "code",
      "source": [
        "# I. ANALISIS(Datos de entrada)\n",
        "basema=float(input(\"Ingrese el base mayor:\\n\"))\n",
        "baseme=float(input(\"Ingrese el base menor:\\n\"))\n",
        "altura=float(input(\"Ingrese la altura:\\n\"))\n",
        "\n",
        "# II. DISEÑO-Proceso(Algoritmo o formula)\n",
        "area=(basema*baseme)*altura/2\n",
        "# III. SALIDA\n",
        "print(\"El area es: \",area)\n"
      ],
      "metadata": {
        "colab": {
          "base_uri": "https://localhost:8080/"
        },
        "id": "UvASVdlf15PF",
        "outputId": "d74e8802-b241-40c8-98ad-be2dd4c83932"
      },
      "execution_count": null,
      "outputs": [
        {
          "output_type": "stream",
          "name": "stdout",
          "text": [
            "Ingrese el base mayor:\n",
            "12\n",
            "Ingrese el base menor:\n",
            "23\n",
            "Ingrese la altura:\n",
            "1\n",
            "El area es:  138.0\n"
          ]
        }
      ]
    },
    {
      "cell_type": "markdown",
      "source": [
        "#Ejemplo 2. Programa que calcule el volumen de cono"
      ],
      "metadata": {
        "id": "C4kGOv2H5juR"
      }
    },
    {
      "cell_type": "code",
      "source": [
        "import math\n",
        "radio=float(input(\"Ingrese la radio\"))\n",
        "altura=float(input(\"Ingrese la altura\"))\n",
        "volumen=math.pi*radio**2*altura/3\n",
        "\n",
        "print(f\"el volumen es: {volumen}\")"
      ],
      "metadata": {
        "colab": {
          "base_uri": "https://localhost:8080/"
        },
        "id": "NikNW1I39g9m",
        "outputId": "e22830cd-8344-4908-fb7a-564480eaf3f4"
      },
      "execution_count": null,
      "outputs": [
        {
          "output_type": "stream",
          "name": "stdout",
          "text": [
            "Ingrese la radio2\n",
            "Ingrese la altura5\n",
            "el volumen es: 20.943951023931955\n"
          ]
        }
      ]
    },
    {
      "cell_type": "markdown",
      "source": [
        "####*ESTRUCTURA DE* **DATOS**\n",
        "\n",
        "#####Estrucutra Lista\n"
      ],
      "metadata": {
        "id": "jLO_Bnpt_YFM"
      }
    },
    {
      "cell_type": "code",
      "source": [
        "l=[\"a\",\"z\",\"f\",\"t\",\"r\",\"u\",\"l\"]\n",
        "l\n",
        "l[2:4]\n",
        "l[1:6]"
      ],
      "metadata": {
        "colab": {
          "base_uri": "https://localhost:8080/"
        },
        "id": "JM0019fH_-lF",
        "outputId": "a7145289-73fb-44e4-cf0d-985f0b49b51c"
      },
      "execution_count": null,
      "outputs": [
        {
          "output_type": "execute_result",
          "data": {
            "text/plain": [
              "['z', 'f', 't', 'r', 'u']"
            ]
          },
          "metadata": {},
          "execution_count": 14
        }
      ]
    },
    {
      "cell_type": "code",
      "source": [],
      "metadata": {
        "id": "KnKRG43s5tGh"
      },
      "execution_count": null,
      "outputs": []
    },
    {
      "cell_type": "markdown",
      "source": [
        "Lista de listas"
      ],
      "metadata": {
        "id": "UTqCzl1ICxPr"
      }
    },
    {
      "cell_type": "code",
      "source": [
        "L=[[2,3],[2,3]]\n",
        "L[1]"
      ],
      "metadata": {
        "colab": {
          "base_uri": "https://localhost:8080/"
        },
        "id": "DUBm0QsgC02s",
        "outputId": "6c553073-e962-4557-ea62-683c4d82e362"
      },
      "execution_count": null,
      "outputs": [
        {
          "output_type": "execute_result",
          "data": {
            "text/plain": [
              "[2, 3]"
            ]
          },
          "metadata": {},
          "execution_count": 15
        }
      ]
    }
  ]
}