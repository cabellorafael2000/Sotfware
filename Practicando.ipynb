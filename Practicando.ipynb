{
  "cells": [
    {
      "cell_type": "code",
      "execution_count": null,
      "metadata": {
        "id": "7oQWzZOq91vD"
      },
      "outputs": [],
      "source": [
        "#LISTAS"
      ]
    },
    {
      "cell_type": "code",
      "execution_count": null,
      "metadata": {
        "colab": {
          "base_uri": "https://localhost:8080/"
        },
        "id": "S42NloG2-aRA",
        "outputId": "f1ec23ca-467d-41de-d3e7-b1f0533d3518"
      },
      "outputs": [
        {
          "output_type": "execute_result",
          "data": {
            "text/plain": [
              "['Luis', 2, 'Ana', [2, 4, 1], True, 2.3, [5]]"
            ]
          },
          "metadata": {},
          "execution_count": 2
        }
      ],
      "source": [
        "L=[\"Luis\",2,\"Ana\",[2,4,1],True,2.3,[5]]\n",
        "L"
      ]
    },
    {
      "cell_type": "code",
      "execution_count": null,
      "metadata": {
        "colab": {
          "base_uri": "https://localhost:8080/"
        },
        "id": "XOglrVOs-2Xu",
        "outputId": "8e1cf3f6-e477-4cb8-dd0a-a0f00fa79081"
      },
      "outputs": [
        {
          "data": {
            "text/plain": [
              "['Ana', [2, 4, 1], True]"
            ]
          },
          "execution_count": 4,
          "metadata": {},
          "output_type": "execute_result"
        }
      ],
      "source": [
        "L[2:5]"
      ]
    },
    {
      "cell_type": "code",
      "execution_count": null,
      "metadata": {
        "colab": {
          "base_uri": "https://localhost:8080/"
        },
        "id": "c5iubbYw_TpM",
        "outputId": "b6c63c36-9642-4fbe-e2d6-be8a837a75cb"
      },
      "outputs": [
        {
          "data": {
            "text/plain": [
              "4"
            ]
          },
          "execution_count": 6,
          "metadata": {},
          "output_type": "execute_result"
        }
      ],
      "source": [
        "L[3][1]"
      ]
    },
    {
      "cell_type": "code",
      "execution_count": null,
      "metadata": {
        "colab": {
          "base_uri": "https://localhost:8080/"
        },
        "id": "Gii7WXqg_WWi",
        "outputId": "a4781749-bc89-4198-b3c6-fa4a43d00ec0"
      },
      "outputs": [
        {
          "data": {
            "text/plain": [
              "5"
            ]
          },
          "execution_count": 10,
          "metadata": {},
          "output_type": "execute_result"
        }
      ],
      "source": [
        "L[6][0]\n",
        "L[-1][0]"
      ]
    },
    {
      "cell_type": "markdown",
      "metadata": {
        "id": "bKOiLsTwBr3n"
      },
      "source": [
        "## Listas usando funciones"
      ]
    },
    {
      "cell_type": "code",
      "execution_count": null,
      "metadata": {
        "colab": {
          "base_uri": "https://localhost:8080/"
        },
        "id": "DQ7I_MNIB4Fw",
        "outputId": "2c3e2c8b-1783-4708-839d-21687df125a5"
      },
      "outputs": [
        {
          "output_type": "execute_result",
          "data": {
            "text/plain": [
              "[12, 14, 12, 16, 17, 19, 13, 16]"
            ]
          },
          "metadata": {},
          "execution_count": 3
        }
      ],
      "source": [
        "nota = [12,14,12,16,17,19,13,16]\n",
        "nota"
      ]
    },
    {
      "cell_type": "code",
      "execution_count": null,
      "metadata": {
        "colab": {
          "base_uri": "https://localhost:8080/"
        },
        "id": "JLUz8HlECMBk",
        "outputId": "5b2ba71d-19c4-436e-897d-88249670ff0a"
      },
      "outputs": [
        {
          "output_type": "execute_result",
          "data": {
            "text/plain": [
              "19"
            ]
          },
          "metadata": {},
          "execution_count": 4
        }
      ],
      "source": [
        "notaMax = max(nota)\n",
        "notaMax"
      ]
    },
    {
      "cell_type": "code",
      "execution_count": null,
      "metadata": {
        "colab": {
          "base_uri": "https://localhost:8080/"
        },
        "id": "BGaGe9-2CU2C",
        "outputId": "49bb45d3-afd6-4753-e012-b4f9774d9c72"
      },
      "outputs": [
        {
          "output_type": "execute_result",
          "data": {
            "text/plain": [
              "12"
            ]
          },
          "metadata": {},
          "execution_count": 5
        }
      ],
      "source": [
        "notaMin = min(nota)\n",
        "notaMin"
      ]
    },
    {
      "cell_type": "code",
      "execution_count": null,
      "metadata": {
        "colab": {
          "base_uri": "https://localhost:8080/"
        },
        "id": "o37fAq5wCi6e",
        "outputId": "24e944a1-8bb7-4587-8007-30670dff0373"
      },
      "outputs": [
        {
          "output_type": "execute_result",
          "data": {
            "text/plain": [
              "8"
            ]
          },
          "metadata": {},
          "execution_count": 6
        }
      ],
      "source": [
        "longitud = len(nota)\n",
        "longitud"
      ]
    },
    {
      "cell_type": "code",
      "execution_count": null,
      "metadata": {
        "colab": {
          "base_uri": "https://localhost:8080/"
        },
        "id": "3SgE2GFEC1ZZ",
        "outputId": "e4418c01-1ebf-4906-9f2a-76c23a5fca4b"
      },
      "outputs": [
        {
          "output_type": "execute_result",
          "data": {
            "text/plain": [
              "[12, 12, 13, 14, 16, 16, 17, 19]"
            ]
          },
          "metadata": {},
          "execution_count": 7
        }
      ],
      "source": [
        "OrdenAsc = sorted(nota)\n",
        "OrdenAsc"
      ]
    },
    {
      "cell_type": "code",
      "execution_count": null,
      "metadata": {
        "colab": {
          "base_uri": "https://localhost:8080/"
        },
        "id": "f9Vzy4SkDE31",
        "outputId": "a8a353e3-2b31-4403-c83a-63a2f0f09dd1"
      },
      "outputs": [
        {
          "output_type": "execute_result",
          "data": {
            "text/plain": [
              "[19, 17, 16, 16, 14, 13, 12, 12]"
            ]
          },
          "metadata": {},
          "execution_count": 8
        }
      ],
      "source": [
        "OrdenDesc = sorted(nota, reverse= True)\n",
        "OrdenDesc"
      ]
    },
    {
      "cell_type": "markdown",
      "metadata": {
        "id": "-8IKPLXxDimk"
      },
      "source": [
        "Aregar y remover parametros"
      ]
    },
    {
      "cell_type": "code",
      "execution_count": null,
      "metadata": {
        "colab": {
          "base_uri": "https://localhost:8080/"
        },
        "id": "g1mo3WN_DnKN",
        "outputId": "b27c66ee-a872-48f0-e9e2-19ab75b3f21b"
      },
      "outputs": [
        {
          "output_type": "execute_result",
          "data": {
            "text/plain": [
              "[12, 14, 12, 16, 17, 19, 13, 16, 10]"
            ]
          },
          "metadata": {},
          "execution_count": 9
        }
      ],
      "source": [
        "nota.append(10)\n",
        "nota"
      ]
    },
    {
      "cell_type": "code",
      "execution_count": null,
      "metadata": {
        "colab": {
          "base_uri": "https://localhost:8080/"
        },
        "id": "tnu5UQFRFrnW",
        "outputId": "eaa19188-573e-487e-e42a-f1ab4401b7c9"
      },
      "outputs": [
        {
          "output_type": "execute_result",
          "data": {
            "text/plain": [
              "[12, 14, 12, 16, 17, 19, 13, 16, 10, 14, 16]"
            ]
          },
          "metadata": {},
          "execution_count": 10
        }
      ],
      "source": [
        "nota = nota + [14,16]\n",
        "nota"
      ]
    },
    {
      "cell_type": "code",
      "execution_count": null,
      "metadata": {
        "colab": {
          "base_uri": "https://localhost:8080/"
        },
        "id": "0jK2vW4TwW_S",
        "outputId": "bfbe925d-c7a0-42d2-f43f-9013599ed1c2"
      },
      "outputs": [
        {
          "output_type": "execute_result",
          "data": {
            "text/plain": [
              "[14, 12, 16, 17, 19, 13, 16, 10, 14, 16]"
            ]
          },
          "metadata": {},
          "execution_count": 11
        }
      ],
      "source": [
        "del(nota[0])\n",
        "nota"
      ]
    },
    {
      "cell_type": "markdown",
      "metadata": {
        "id": "MayAy43xxXuM"
      },
      "source": [
        "**MATRICES** :✌️"
      ]
    },
    {
      "cell_type": "code",
      "execution_count": null,
      "metadata": {
        "id": "mSXWZHl1xdEZ"
      },
      "outputs": [],
      "source": [
        "import numpy as np"
      ]
    },
    {
      "cell_type": "code",
      "execution_count": null,
      "metadata": {
        "id": "PLA6ld5k0Vue"
      },
      "outputs": [],
      "source": [
        "a = np.array([1,2,3])"
      ]
    },
    {
      "cell_type": "code",
      "execution_count": null,
      "metadata": {
        "colab": {
          "base_uri": "https://localhost:8080/"
        },
        "id": "S5R9yo-30bvx",
        "outputId": "0cb8fbd4-6859-4408-a8e6-be31c15e4868"
      },
      "outputs": [
        {
          "name": "stdout",
          "output_type": "stream",
          "text": [
            "[1 2 3]\n"
          ]
        }
      ],
      "source": [
        "print(a)"
      ]
    },
    {
      "cell_type": "code",
      "execution_count": null,
      "metadata": {
        "colab": {
          "base_uri": "https://localhost:8080/"
        },
        "id": "bLOjnlUJ0lZz",
        "outputId": "edb77ebf-4285-483b-d71a-dfc0f1b9ed8a"
      },
      "outputs": [
        {
          "name": "stdout",
          "output_type": "stream",
          "text": [
            "1\n"
          ]
        }
      ],
      "source": [
        "# Dimensión de la matriz\n",
        "print(a.ndim)"
      ]
    },
    {
      "cell_type": "code",
      "execution_count": null,
      "metadata": {
        "id": "zwI5BZCw1LTi"
      },
      "outputs": [],
      "source": [
        "# Arreglos de 3 dimensiones\n",
        "b = np.array([(2,3,2),(2,1,3),(2,0,4)])"
      ]
    },
    {
      "cell_type": "code",
      "execution_count": null,
      "metadata": {
        "colab": {
          "base_uri": "https://localhost:8080/"
        },
        "id": "_1R4bn6Q1dKj",
        "outputId": "e2d7594d-b868-48d4-b1eb-d1b7cbf75003"
      },
      "outputs": [
        {
          "name": "stdout",
          "output_type": "stream",
          "text": [
            "[[2 3 2]\n",
            " [2 1 3]\n",
            " [2 0 4]]\n"
          ]
        }
      ],
      "source": [
        "print(b)"
      ]
    },
    {
      "cell_type": "markdown",
      "source": [
        "#bucle for\n",
        "####sumar los n numeros ingresados por teclado"
      ],
      "metadata": {
        "id": "5ij7cQ1QHAmg"
      }
    },
    {
      "cell_type": "code",
      "source": [
        "suma=0\n",
        "\n",
        "for i in  range(5+1):\n",
        "    print(i)\n",
        "    suma  = suma + i\n",
        "print(f\"la suma es: {suma} \")"
      ],
      "metadata": {
        "colab": {
          "base_uri": "https://localhost:8080/"
        },
        "id": "nIaXkzePHNeq",
        "outputId": "86948d74-7c34-477a-c502-c204041ea75f"
      },
      "execution_count": null,
      "outputs": [
        {
          "output_type": "stream",
          "name": "stdout",
          "text": [
            "0\n",
            "1\n",
            "2\n",
            "3\n",
            "4\n",
            "5\n",
            "la suma es: 15 \n"
          ]
        }
      ]
    },
    {
      "cell_type": "markdown",
      "source": [
        "####hallar el factorial de un numero"
      ],
      "metadata": {
        "id": "CfP1ll99K3Xs"
      }
    },
    {
      "cell_type": "code",
      "source": [
        "num = int(input(\"Ingresa un numero: \\t\"))\n",
        "\n",
        "factorial = 1\n",
        "\n",
        "for i in range(1, num+1):\n",
        "    factorial = factorial * i\n",
        "\n",
        "print(f\"El factorial de {num} es {factorial}: \")"
      ],
      "metadata": {
        "colab": {
          "base_uri": "https://localhost:8080/"
        },
        "id": "iTZQOkG7K7um",
        "outputId": "1807ce6e-67fd-4f6d-d760-77522e1555f5"
      },
      "execution_count": null,
      "outputs": [
        {
          "output_type": "stream",
          "name": "stdout",
          "text": [
            "Ingresa un numero: \t5\n",
            "El factorial de 5 es 120: \n"
          ]
        }
      ]
    },
    {
      "cell_type": "markdown",
      "source": [
        "####un programa que suma los numeros ingresados por teclado"
      ],
      "metadata": {
        "id": "9U3xrXSyN9uH"
      }
    },
    {
      "cell_type": "code",
      "source": [
        "n = int(input(\"Ingresa la cantidad de datos \"))\n",
        "\n",
        "suma = 0\n",
        "\n",
        "while n > 0:\n",
        "    dato = float(input(\"ingresa un dato: \"))\n",
        "    suma = suma + dato\n",
        "    n = n-1\n",
        "\n",
        "print(f\"la suma es {suma} \")"
      ],
      "metadata": {
        "colab": {
          "base_uri": "https://localhost:8080/"
        },
        "id": "msr639uUOH_h",
        "outputId": "eab20540-ce67-46d5-a6d1-620d67784e4d"
      },
      "execution_count": null,
      "outputs": [
        {
          "output_type": "stream",
          "name": "stdout",
          "text": [
            "Ingresa la cantidad de datos 3\n",
            "ingresa un dato: 34\n",
            "ingresa un dato: 23\n",
            "ingresa un dato: 23.2\n",
            "la suma es 80.2 \n"
          ]
        }
      ]
    },
    {
      "cell_type": "markdown",
      "source": [
        "####implemeta un bucle infinito , cuando de ingresa el 0, calcule la suma"
      ],
      "metadata": {
        "id": "GDuNoJVTRNBS"
      }
    },
    {
      "cell_type": "code",
      "source": [
        "suma = 0\n",
        "while True:\n",
        "    dato = float(input(\"ingresa el numero: \"))\n",
        "    if dato ==0:\n",
        "        break\n",
        "    suma += dato\n",
        "print(f\"La suma es {suma}\")"
      ],
      "metadata": {
        "colab": {
          "base_uri": "https://localhost:8080/"
        },
        "id": "L4cBNNVLRYo6",
        "outputId": "49bcc597-c3dd-45d6-dcff-f8f930f26500"
      },
      "execution_count": null,
      "outputs": [
        {
          "output_type": "stream",
          "name": "stdout",
          "text": [
            "ingresa el numero: 2\n",
            "ingresa el numero: 3\n",
            "ingresa el numero: -2\n",
            "ingresa el numero: -2\n",
            "ingresa el numero: 4\n",
            "ingresa el numero: 0\n",
            "La suma es 5.0\n"
          ]
        }
      ]
    },
    {
      "cell_type": "markdown",
      "source": [
        "*FUNCIONES*"
      ],
      "metadata": {
        "id": "KdcL9r4dTJfA"
      }
    },
    {
      "cell_type": "markdown",
      "source": [
        "####Programa que suma dos numeros"
      ],
      "metadata": {
        "id": "UFH5hFn7TRME"
      }
    },
    {
      "cell_type": "code",
      "source": [
        "def suma(a, b):\n",
        "    return a + b\n",
        "suma(2,3)\n"
      ],
      "metadata": {
        "colab": {
          "base_uri": "https://localhost:8080/"
        },
        "id": "jjaSY4duTXJX",
        "outputId": "e10cb7d0-be58-44ef-8711-2ce0fa98c800"
      },
      "execution_count": null,
      "outputs": [
        {
          "output_type": "execute_result",
          "data": {
            "text/plain": [
              "5"
            ]
          },
          "metadata": {},
          "execution_count": 22
        }
      ]
    },
    {
      "cell_type": "markdown",
      "source": [
        "####Programa que calcula el volumen de un cilindro"
      ],
      "metadata": {
        "id": "FTesn3zQXYIL"
      }
    },
    {
      "cell_type": "code",
      "source": [
        "import math \n",
        "\n",
        "def volumen_cilindro(radio, altura):\n",
        "    volumen = math.pi*radio**2*altura\n",
        "    return volumen\n",
        "r = float(input(\"ingresa el radio\"))\n",
        "h = float(input(\"ingresa la altura\"))\n",
        "\n",
        "volumen = volumen_cilindro(r, h)\n",
        "\n",
        "print(f\"el volumen del cilindro es {(volumen):.2f}\")\n",
        "\n"
      ],
      "metadata": {
        "colab": {
          "base_uri": "https://localhost:8080/"
        },
        "id": "KbL_AhRwXeHT",
        "outputId": "694f26bf-55ca-4591-ca07-0777c7288df9"
      },
      "execution_count": null,
      "outputs": [
        {
          "output_type": "stream",
          "name": "stdout",
          "text": [
            "ingresa el radio4\n",
            "ingresa la altura9\n",
            "el volumen del cilindro es 452.39\n"
          ]
        }
      ]
    },
    {
      "cell_type": "code",
      "source": [
        "diccionario = {'nombre' : 'Carlos', 'edad' : 22, 'cursos': ['Python','Django','JavaScript'] }\n"
      ],
      "metadata": {
        "colab": {
          "base_uri": "https://localhost:8080/"
        },
        "id": "X6fLfqwoVG-d",
        "outputId": "e24a4ca5-600b-4457-9bdd-d99b4b2d4c56"
      },
      "execution_count": null,
      "outputs": [
        {
          "output_type": "execute_result",
          "data": {
            "text/plain": [
              "{'cursos': ['Python', 'Django', 'JavaScript'], 'edad': 22, 'nombre': 'Carlos'}"
            ]
          },
          "metadata": {},
          "execution_count": 16
        }
      ]
    }
  ],
  "metadata": {
    "colab": {
      "provenance": [],
      "authorship_tag": "ABX9TyO7Gxy6hvybWO1WU3v77QXj"
    },
    "kernelspec": {
      "display_name": "Python 3",
      "name": "python3"
    },
    "language_info": {
      "name": "python"
    }
  },
  "nbformat": 4,
  "nbformat_minor": 0
}